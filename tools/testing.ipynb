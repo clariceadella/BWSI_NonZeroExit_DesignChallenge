{
 "cells": [
  {
   "cell_type": "code",
   "execution_count": 9,
   "metadata": {},
   "outputs": [
    {
     "name": "stdout",
     "output_type": "stream",
     "text": [
      "ciphertext:\n",
      "{0x7e,0x94,0x38,0xcc,0xed,0xc5,0x8a,0x79,0xf6,0x9e,0x1c,0x8a,0x6d,0xb1,0xd5,0x76,0xbe,0xb5,0xdd,0xe4,0xb1,0xc2,0xa4,0x9b,0xb5,0x69,0xe7,0xc2,0xc9,0x92,0xfd,0xe8,0x38,0x81,0x88}\n",
      "tag:\n",
      "{0x1a,0xea,0xc6,0x3c,0x53,0x3d,0x79,0xc3,0xa4,0xe7,0xff,0xe1,0x25,0xf5,0x54,0xf4}\n",
      "IV:\n",
      "{0x30,0x31,0x32,0x33,0x34,0x35,0x36,0x37,0x38,0x39,0x61,0x62,0x63,0x64,0x65,0x66}\n"
     ]
    }
   ],
   "source": [
    "    #This file is NOT directly used in the design challenge\n",
    "    #Test purposes only\n",
    "    \n",
    "    import argparse\n",
    "    import struct\n",
    "    from Crypto.Util.Padding import pad, unpad\n",
    "    from Crypto.Cipher import AES\n",
    "    message=\"firmware\"\n",
    "    def to_c_array(binary_string):\n",
    "        return \"{\" + \",\".join([hex(c) for c in binary_string]) + \"}\"\n",
    "\n",
    "    #hardcode key, iv, and firmware\n",
    "    key1 = bytearray(\"hellohellohelloh\", \"utf-8\")\n",
    "    iv = b\"0123456789abcdef\"\n",
    "    #iv = bytearray(\"0123456789abcdef\", \"utf-8\")\n",
    "    firmware = bytearray(\"abcdefghijklmnopqrstuvwxyz\", \"utf-8\")\n",
    "    \n",
    "    #Encrypt with AES GCM mode\n",
    "    cipher_encrypt = AES.new(key1, AES.MODE_GCM,nonce=iv)\n",
    "    \n",
    "    #Pack version and size into two little-endian shorts, pad metadata\n",
    "    metadata = struct.pack('<HH', 3, len(firmware))\n",
    "    metadata = pad(metadata, 16)\n",
    "    \n",
    "    # Append null-terminated message to end of firmware\n",
    "    firmware_and_message = firmware + message.encode() + b'\\00'\n",
    "\n",
    "    #Appends the metadata and firmware message\n",
    "    cipher_encrypt.update(metadata)\n",
    "    cipher_encrypt.update(firmware_and_message)\n",
    "  \n",
    "    ciphertext, tag = cipher_encrypt.encrypt_and_digest(firmware_and_message)\n",
    "    print(\"ciphertext:\")\n",
    "    print(to_c_array(ciphertext))\n",
    "    print(\"tag:\")\n",
    "    print(to_c_array(tag))\n",
    "    print(\"IV:\")\n",
    "    print(to_c_array(iv))\n",
    "    "
   ]
  },
  {
   "cell_type": "code",
   "execution_count": 4,
   "metadata": {},
   "outputs": [],
   "source": [
    "import Crypto.Random\n",
    "key_aes = Crypto.Random.get_random_bytes(16)\n",
    "iv = Crypto.Random.get_random_bytes(16)\n",
    "\n",
    "with open('secret_build_output.txt', 'wb') as fp:\n",
    "    fp.write(key_aes + iv)\n",
    "    \n",
    "#with open('../bootloader/src/secrets.h', 'wb') as f:\n",
    "    #f.write(b\"#define KEY_AES \" + key_aes)"
   ]
  },
  {
   "cell_type": "code",
   "execution_count": null,
   "metadata": {},
   "outputs": [],
   "source": []
  }
 ],
 "metadata": {
  "kernelspec": {
   "display_name": "Python 3",
   "language": "python",
   "name": "python3"
  },
  "language_info": {
   "codemirror_mode": {
    "name": "ipython",
    "version": 3
   },
   "file_extension": ".py",
   "mimetype": "text/x-python",
   "name": "python",
   "nbconvert_exporter": "python",
   "pygments_lexer": "ipython3",
   "version": "3.7.6"
  }
 },
 "nbformat": 4,
 "nbformat_minor": 4
}
