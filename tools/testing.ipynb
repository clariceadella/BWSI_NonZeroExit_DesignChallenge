{
 "cells": [
  {
   "cell_type": "code",
   "execution_count": 9,
   "metadata": {},
   "outputs": [
    {
     "name": "stdout",
     "output_type": "stream",
     "text": [
      "ciphertext:\n",
      "{0x7e,0x94,0x38,0xcc,0xed,0xc5,0x8a,0x79,0xf6,0x9e,0x1c,0x8a,0x6d,0xb1,0xd5,0x76,0xbe,0xb5,0xdd,0xe4,0xb1,0xc2,0xa4,0x9b,0xb5,0x69,0x81}\n",
      "tag:\n",
      "{0xf0,0x5a,0xac,0x37,0x3e,0x43,0xb2,0xf0,0xf7,0x8e,0x2b,0x7c,0xac,0x4f,0x7,0x18}\n"
     ]
    }
   ],
   "source": [
    "    import argparse\n",
    "    import struct\n",
    "    from Crypto.Cipher import AES\n",
    "\n",
    "    def to_c_array(binary_string):\n",
    "        return \"{\" + \",\".join([hex(c) for c in binary_string]) + \"}\"\n",
    "\n",
    "    key1 = bytearray(\"hellohellohelloh\", \"utf-8\")\n",
    "    \n",
    "    #read the file with the key-- fix later\n",
    "    #with open(\"secretbuildoutput.txt\", 'rb') as k:\n",
    "        #key1 = k.read()\n",
    "    \n",
    "    #Will encrypt with AES GCM mode\n",
    "    cipher_encrypt = AES.new(key1, AES.MODE_GCM, nonce=b\"0123456789abcdef\")\n",
    "    \n",
    "    # Load firmware binary from infile\n",
    "    #with open(infile, 'rb') as fp:\n",
    "        #firmware = fp.read()\n",
    "    firmware = bytearray(\"abcdefghijklmnopqrstuvwxyz\", \"utf-8\")\n",
    "    # Pack version and size into two little-endian shorts\n",
    "    #metadata = struct.pack('<HH', version, len(firmware))\n",
    "\n",
    "    #updating with the metadata\n",
    "    #cipher_encrypt.update(metadata)\n",
    "    \n",
    "    # Append null-terminated message to end of firmware\n",
    "    firmware_and_message = firmware + b'\\00'\n",
    "\n",
    "    #dealing with the the main data\n",
    "    #nonce = cipher_encrypt.nonce\n",
    "    ciphertext, tag = cipher_encrypt.encrypt_and_digest(firmware_and_message)\n",
    "    print(\"ciphertext:\")\n",
    "    print(to_c_array(ciphertext))\n",
    "    print(\"tag:\")\n",
    "    print(to_c_array(tag))\n",
    "    # Write the encrypted message to outfile\n",
    "    \n",
    "    #not needed but helpful\n",
    "    #print(\"Send this info: \")\n",
    "    #print(\"Nonce: \".encode(\"utf-8\") + nonce)\n",
    "    #print(\"Metadata:\".encode(\"utf-8\") + meta)\n",
    "    #print(\"Ciphertext: \".encode(\"utf-8\") + ciphertext)\n",
    "    #print(\"Tag: \".encode(\"utf-8\") + tag)"
   ]
  },
  {
   "cell_type": "code",
   "execution_count": null,
   "metadata": {},
   "outputs": [],
   "source": [
    "import secrets\n",
    "key_aes = secrets.token_bytes(16)\n",
    "iv = secrets.token_bytes(16)\n",
    "\n",
    "with open('secret_build_output.txt', 'wb') as fp:\n",
    "    fp.write(key_aes + iv)\n",
    "    \n",
    "#with open('../bootloader/src/secrets.h', 'wb') as f:\n",
    "    #f.write(b\"#define KEY_AES \" + key_aes)"
   ]
  }
 ],
 "metadata": {
  "kernelspec": {
   "display_name": "Python 3",
   "language": "python",
   "name": "python3"
  },
  "language_info": {
   "codemirror_mode": {
    "name": "ipython",
    "version": 3
   },
   "file_extension": ".py",
   "mimetype": "text/x-python",
   "name": "python",
   "nbconvert_exporter": "python",
   "pygments_lexer": "ipython3",
   "version": "3.7.6"
  }
 },
 "nbformat": 4,
 "nbformat_minor": 4
}
