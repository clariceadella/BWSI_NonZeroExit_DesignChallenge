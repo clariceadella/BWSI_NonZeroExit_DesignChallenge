{
 "cells": [
  {
   "cell_type": "code",
   "execution_count": 20,
   "metadata": {},
   "outputs": [
    {
     "name": "stdout",
     "output_type": "stream",
     "text": [
      "test key:\n",
      "b'P\\xcb\\xca\\x99\\x8f\\xb0\\x08\\x0b\\x9a\\xc4\\xc5\\xd7\\xfcW~!\\xfe$bCsb\\x94\\xd1\\xaa\\n\\x13:\\x0ci\\xfb\\x00t\\x8e\\x1b\\r\\xd5L1\\x10>\\xf3\\xa9\\xbc\\x13\"7\\xd2\\xe9_\\x98\\xb3y}f\\xad\\xe0\\xe7\\x87\\x98Re\\xf7\\x14'\n"
     ]
    }
   ],
   "source": [
    "#testing out key streams, will implement into design challenge later\n",
    "\n",
    "from Crypto.Cipher import Salsa20\n",
    "from salsa20 import XSalsa20_keystream\n",
    "from os import urandom\n",
    "\n",
    "#create a secret key\n",
    "sec_key = b'abcdefghijklmnop1234567890123456'\n",
    "\n",
    "#generate a random IV\n",
    "IV = urandom(24)\n",
    "\n",
    "#generate the key stream\n",
    "test = XSalsa20_keystream(64, IV, sec_key)\n",
    "\n",
    "#eventually random chunks of the key stream will be used\n",
    "#as keys for our AES encryption\n",
    "\n",
    "#print out the key stream\n",
    "print(\"test key:\")\n",
    "print(test)"
   ]
  },
  {
   "cell_type": "code",
   "execution_count": 14,
   "metadata": {},
   "outputs": [
    {
     "name": "stdout",
     "output_type": "stream",
     "text": [
      "Requirement already satisfied: salsa20 in /opt/conda/lib/python3.7/site-packages (0.3.0)\n",
      "Note: you may need to restart the kernel to use updated packages.\n"
     ]
    }
   ],
   "source": [
    "pip install salsa20"
   ]
  },
  {
   "cell_type": "code",
   "execution_count": null,
   "metadata": {},
   "outputs": [],
   "source": []
  }
 ],
 "metadata": {
  "kernelspec": {
   "display_name": "Python 3",
   "language": "python",
   "name": "python3"
  },
  "language_info": {
   "codemirror_mode": {
    "name": "ipython",
    "version": 3
   },
   "file_extension": ".py",
   "mimetype": "text/x-python",
   "name": "python",
   "nbconvert_exporter": "python",
   "pygments_lexer": "ipython3",
   "version": "3.7.6"
  }
 },
 "nbformat": 4,
 "nbformat_minor": 4
}
