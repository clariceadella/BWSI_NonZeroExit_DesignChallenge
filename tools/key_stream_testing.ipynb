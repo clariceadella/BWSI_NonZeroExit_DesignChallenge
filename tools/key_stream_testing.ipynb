{
 "cells": [
  {
   "cell_type": "code",
   "execution_count": 19,
   "metadata": {},
   "outputs": [
    {
     "name": "stdout",
     "output_type": "stream",
     "text": [
      "test key:\n",
      "b'\\xf3M\\x172+\\xd6\\x9f\\x13\\xc0&\\x93\\x8aT\\xe5\\xad\\xda{>\\x15\\xfet\\x81\\x03\"Lx\\xb4C{_\\xdf\\xa3\\xab\\x05\\xde\\xf5\\xc1U\\xdc\\x95Q`:\\tT\\xd6\\xfe\\xc3\\xf5U\\x94\\x8d\\x91\\xeb\\xd0F\\x8e\\xbfv\\xef\\x9a\\xf5\\xde\\t'\n"
     ]
    }
   ],
   "source": [
    "#testing out key streams, will implement into design challenge later\n",
    "\n",
    "from Crypto.Cipher import Salsa20\n",
    "from salsa20 import XSalsa20_keystream\n",
    "from os import urandom\n",
    "\n",
    "#create a secret key\n",
    "sec_key = b'abcdefghijklmnop1234567890123456'\n",
    "\n",
    "#generate a random IV\n",
    "IV = urandom(24)\n",
    "\n",
    "#generate the key stream\n",
    "test = XSalsa20_keystream(64, IV, sec_key)\n",
    "\n",
    "#eventually random chunks of the key stream will be used\n",
    "#as keys for our AES encryption\n",
    "\n",
    "#print out the key stream\n",
    "print(\"test key:\")\n",
    "print(test)"
   ]
  },
  {
   "cell_type": "code",
   "execution_count": 14,
   "metadata": {},
   "outputs": [
    {
     "name": "stdout",
     "output_type": "stream",
     "text": [
      "Requirement already satisfied: salsa20 in /opt/conda/lib/python3.7/site-packages (0.3.0)\n",
      "Note: you may need to restart the kernel to use updated packages.\n"
     ]
    }
   ],
   "source": [
    "pip install salsa20"
   ]
  },
  {
   "cell_type": "code",
   "execution_count": null,
   "metadata": {},
   "outputs": [],
   "source": []
  }
 ],
 "metadata": {
  "kernelspec": {
   "display_name": "Python 3",
   "language": "python",
   "name": "python3"
  },
  "language_info": {
   "codemirror_mode": {
    "name": "ipython",
    "version": 3
   },
   "file_extension": ".py",
   "mimetype": "text/x-python",
   "name": "python",
   "nbconvert_exporter": "python",
   "pygments_lexer": "ipython3",
   "version": "3.7.6"
  }
 },
 "nbformat": 4,
 "nbformat_minor": 4
}
