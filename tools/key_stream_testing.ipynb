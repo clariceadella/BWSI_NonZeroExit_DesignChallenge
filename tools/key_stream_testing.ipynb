{
 "cells": [
  {
   "cell_type": "code",
   "execution_count": 9,
   "metadata": {},
   "outputs": [
    {
     "name": "stdout",
     "output_type": "stream",
     "text": [
      "test key:\n",
      "b'\\xd9\\x03\\xbe\\xa8\\xcew}pP\\x1fH\\x93\\xdb\\xcc\\t\\xebrnSK,\\x05\\x17\\xc9\\xfb\\x96\\xa8_\\x18\\xd1\\xc5\\x85\\xf4\\xdb@L\\xaf\\xb8\\xcc\\xf9\\xdc\\r\\xa0EK\\x16\\xbd\\xbc\\x9c\\xb7\\x80\\x80H*\\xd5T-\\x9c\\xc9\\xdb-\\x84\\x82w'\n",
      "testing: \n",
      "b'\\xd9\\x03\\xbe\\xa8\\xcew}pP\\x1fH\\x93\\xdb\\xcc\\t\\xebrnSK,\\x05\\x17\\xc9\\xfb\\x96\\xa8_\\x18\\xd1\\xc5\\x85\\xf4\\xdb@L\\xaf\\xb8\\xcc\\xf9\\xdc\\r\\xa0EK\\x16\\xbd\\xbc\\x9c\\xb7\\x80\\x80H*\\xd5T-\\x9c\\xc9\\xdb-\\x84\\x82w'\n",
      "testingtest: \n",
      "b'\\xcf\\xc0\\xb6\\x84\\x0c\\x89\\x8f\\xfe\\xbf\\xaf\\x80\\xa7$\\xea\\xf3\\xde\\xdc\\xea\\x82`\\xf6,\\xd5M\\xe4\\xa6\\xf5!\\t\\xbcJY\\x1f\\\\B\"\\x82\\xaa\\x85\\x1a\\x96\\xdb\\xc3\\xb2+\\xd7\\x0e\\xfbY=)\\x97C\\r\\xc4\\xc1t\\x1f\\r7\\xc4\\n\\xc3\\xff'\n"
     ]
    }
   ],
   "source": [
    "#testing out key streams, will implement into design challenge later\n",
    "\n",
    "from Crypto.Cipher import Salsa20\n",
    "from salsa20 import XSalsa20_keystream\n",
    "from os import urandom\n",
    "\n",
    "#create a secret key\n",
    "sec_key = b'abcdefghijklmnop1234567890123456'\n",
    "\n",
    "#generate an IV\n",
    "IV = b'abcdefghijklmnopqrstuvwx'\n",
    "IVtwo = urandom(24)\n",
    "\n",
    "#generate the key stream\n",
    "test = XSalsa20_keystream(64, IV, sec_key)\n",
    "testing= XSalsa20_keystream(64, IV, sec_key)\n",
    "testingtest= XSalsa20_keystream(64, IVtwo, sec_key)\n",
    "\n",
    "#print out the key stream\n",
    "print(\"test key:\")\n",
    "print(test)\n",
    "print(\"testing: \")\n",
    "print(testing)\n",
    "print(\"testingtest: \")\n",
    "print(testingtest)"
   ]
  },
  {
   "cell_type": "code",
   "execution_count": 14,
   "metadata": {},
   "outputs": [
    {
     "name": "stdout",
     "output_type": "stream",
     "text": [
      "Requirement already satisfied: salsa20 in /opt/conda/lib/python3.7/site-packages (0.3.0)\n",
      "Note: you may need to restart the kernel to use updated packages.\n"
     ]
    }
   ],
   "source": [
    "pip install salsa20"
   ]
  },
  {
   "cell_type": "code",
   "execution_count": null,
   "metadata": {},
   "outputs": [],
   "source": [
    "#plan:\n",
    "\n",
    "#generate new keys for each firmware version:\n",
    "    #in fw_protect use salsa (or just a random generator) to generate a new 16 byte key\n",
    "    #pass the key into the AES function in fw_protect to encrypt the firmware\n",
    "\n",
    "#send newly generated keys to the bootloader every update(to decrypt the AES)\n",
    "    #encrypt the key to send (with a stream cipher, AES, or whatever)\n",
    "    #send the keys through fw_protect  \n",
    "    \n",
    "#bootloader will decrypt as usual"
   ]
  }
 ],
 "metadata": {
  "kernelspec": {
   "display_name": "Python 3",
   "language": "python",
   "name": "python3"
  },
  "language_info": {
   "codemirror_mode": {
    "name": "ipython",
    "version": 3
   },
   "file_extension": ".py",
   "mimetype": "text/x-python",
   "name": "python",
   "nbconvert_exporter": "python",
   "pygments_lexer": "ipython3",
   "version": "3.7.6"
  }
 },
 "nbformat": 4,
 "nbformat_minor": 4
}
