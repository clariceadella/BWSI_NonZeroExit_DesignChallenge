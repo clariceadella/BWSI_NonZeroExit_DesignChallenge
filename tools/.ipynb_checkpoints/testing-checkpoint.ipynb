{
<<<<<<< HEAD
 "cells": [],
 "metadata": {},
=======
 "cells": [
  {
   "cell_type": "code",
   "execution_count": 13,
   "metadata": {},
   "outputs": [
    {
     "name": "stdout",
     "output_type": "stream",
     "text": [
      "ciphertext:\n",
      "b'\\x16\\x9c\\x02\\xb6]\\xa7I\\xbb\\x1e\\x82\\x157z\\xfe\\xb3\\xf3E\\x99s_\\xd3\\x85\\xfd\\x99\\xd6\\xf6\\x8d'\n",
      "tag:\n",
      "b'\\x95h4\\x1c\\xd0j\\x19\\xd4T\\xef\\xde&\\x05\\x86\\xbc\\xcb'\n"
     ]
    }
   ],
   "source": [
    "    import argparse\n",
    "    import struct\n",
    "    from Crypto.Cipher import AES\n",
    "\n",
    "\n",
    "    key1 = bytearray(\"hellohellohelloh\", \"utf-8\")\n",
    "    \n",
    "    #read the file with the key-- fix later\n",
    "    #with open(\"secretbuildoutput.txt\", 'rb') as k:\n",
    "        #key1 = k.read()\n",
    "    \n",
    "    #Will encrypt with AES GCM mode\n",
    "    cipher_encrypt = AES.new(key1, AES.MODE_GCM)\n",
    "    \n",
    "    # Load firmware binary from infile\n",
    "    #with open(infile, 'rb') as fp:\n",
    "        #firmware = fp.read()\n",
    "    firmware = bytearray(\"abcdefghijklmnopqrstuvwxyz\", \"utf-8\")\n",
    "    # Pack version and size into two little-endian shorts\n",
    "    #metadata = struct.pack('<HH', version, len(firmware))\n",
    "\n",
    "    #updating with the metadata\n",
    "    #cipher_encrypt.update(metadata)\n",
    "    \n",
    "    # Append null-terminated message to end of firmware\n",
    "    firmware_and_message = firmware + b'\\00'\n",
    "\n",
    "    #dealing with the the main data\n",
    "    nonce = cipher_encrypt.nonce\n",
    "    ciphertext, tag = cipher_encrypt.encrypt_and_digest(firmware_and_message)\n",
    "    print(\"ciphertext:\")\n",
    "    print(ciphertext)\n",
    "    print(\"tag:\")\n",
    "    print(tag)\n",
    "    # Write the encrypted message to outfile\n",
    "    \n",
    "    #not needed but helpful\n",
    "    #print(\"Send this info: \")\n",
    "    #print(\"Nonce: \".encode(\"utf-8\") + nonce)\n",
    "    #print(\"Metadata:\".encode(\"utf-8\") + meta)\n",
    "    #print(\"Ciphertext: \".encode(\"utf-8\") + ciphertext)\n",
    "    #print(\"Tag: \".encode(\"utf-8\") + tag)"
   ]
  },
  {
   "cell_type": "code",
   "execution_count": 1,
   "metadata": {},
   "outputs": [
    {
     "ename": "NameError",
     "evalue": "name 'Crypto' is not defined",
     "output_type": "error",
     "traceback": [
      "\u001b[0;31m---------------------------------------------------------------------------\u001b[0m",
      "\u001b[0;31mNameError\u001b[0m                                 Traceback (most recent call last)",
      "\u001b[0;32m<ipython-input-1-907936a81512>\u001b[0m in \u001b[0;36m<module>\u001b[0;34m\u001b[0m\n\u001b[1;32m      1\u001b[0m \u001b[0;32mimport\u001b[0m \u001b[0msecrets\u001b[0m\u001b[0;34m\u001b[0m\u001b[0;34m\u001b[0m\u001b[0m\n\u001b[0;32m----> 2\u001b[0;31m \u001b[0mkey_aes\u001b[0m \u001b[0;34m=\u001b[0m \u001b[0mCrypto\u001b[0m\u001b[0;34m.\u001b[0m\u001b[0mRandom\u001b[0m\u001b[0;34m.\u001b[0m\u001b[0mget_random_bytes\u001b[0m\u001b[0;34m(\u001b[0m\u001b[0;36m16\u001b[0m\u001b[0;34m)\u001b[0m\u001b[0;34m\u001b[0m\u001b[0;34m\u001b[0m\u001b[0m\n\u001b[0m\u001b[1;32m      3\u001b[0m \u001b[0miv\u001b[0m \u001b[0;34m=\u001b[0m \u001b[0mCrypto\u001b[0m\u001b[0;34m.\u001b[0m\u001b[0mRandom\u001b[0m\u001b[0;34m.\u001b[0m\u001b[0mget_random_bytes\u001b[0m\u001b[0;34m(\u001b[0m\u001b[0;36m16\u001b[0m\u001b[0;34m)\u001b[0m\u001b[0;34m\u001b[0m\u001b[0;34m\u001b[0m\u001b[0m\n\u001b[1;32m      4\u001b[0m \u001b[0;34m\u001b[0m\u001b[0m\n\u001b[1;32m      5\u001b[0m \u001b[0;32mwith\u001b[0m \u001b[0mopen\u001b[0m\u001b[0;34m(\u001b[0m\u001b[0;34m'secret_build_output.txt'\u001b[0m\u001b[0;34m,\u001b[0m \u001b[0;34m'wb'\u001b[0m\u001b[0;34m)\u001b[0m \u001b[0;32mas\u001b[0m \u001b[0mfp\u001b[0m\u001b[0;34m:\u001b[0m\u001b[0;34m\u001b[0m\u001b[0;34m\u001b[0m\u001b[0m\n",
      "\u001b[0;31mNameError\u001b[0m: name 'Crypto' is not defined"
     ]
    }
   ],
   "source": [
    "import Crypto\n",
    "key_aes = Crypto.Random.get_random_bytes(16)\n",
    "iv = Crypto.Random.get_random_bytes(16)\n",
    "\n",
    "with open('secret_build_output.txt', 'wb') as fp:\n",
    "    fp.write(key_aes + iv)\n",
    "    \n",
    "#with open('../bootloader/src/secrets.h', 'wb') as f:\n",
    "    #f.write(b\"#define KEY_AES \" + key_aes)"
   ]
  },
  {
   "cell_type": "code",
   "execution_count": null,
   "metadata": {},
   "outputs": [],
   "source": []
  }
 ],
 "metadata": {
  "kernelspec": {
   "display_name": "Python 3",
   "language": "python",
   "name": "python3"
  },
  "language_info": {
   "codemirror_mode": {
    "name": "ipython",
    "version": 3
   },
   "file_extension": ".py",
   "mimetype": "text/x-python",
   "name": "python",
   "nbconvert_exporter": "python",
   "pygments_lexer": "ipython3",
   "version": "3.7.6"
  }
 },
>>>>>>> 98365d07580a21a603cbee5bd5c3142db636f62d
 "nbformat": 4,
 "nbformat_minor": 4
}
